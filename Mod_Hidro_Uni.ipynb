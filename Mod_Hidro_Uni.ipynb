{
  "nbformat": 4,
  "nbformat_minor": 0,
  "metadata": {
    "colab": {
      "provenance": [],
      "toc_visible": true,
      "include_colab_link": true
    },
    "kernelspec": {
      "name": "python3",
      "display_name": "Python 3"
    },
    "language_info": {
      "name": "python"
    }
  },
  "cells": [
    {
      "cell_type": "markdown",
      "metadata": {
        "id": "view-in-github",
        "colab_type": "text"
      },
      "source": [
        "<a href=\"https://colab.research.google.com/github/IppoPowerOptimizer/Modelo_Hidrotermico_Uninodal/blob/main/Mod_Hidro_Uni.ipynb\" target=\"_parent\"><img src=\"https://colab.research.google.com/assets/colab-badge.svg\" alt=\"Open In Colab\"/></a>"
      ]
    },
    {
      "cell_type": "code",
      "execution_count": null,
      "metadata": {
        "id": "kIaa_Q20WUBU"
      },
      "outputs": [],
      "source": [
        "# Importing the pyomo module\n",
        "from pyomo.environ import *\n",
        "import pandas as pd"
      ]
    },
    {
      "cell_type": "code",
      "source": [
        "%%capture\n",
        "import sys\n",
        "import os\n",
        "\n",
        "if 'google.colab' in sys.modules:\n",
        "    !pip install idaes-pse --pre\n",
        "    !idaes get-extensions --to ./bin\n",
        "    os.environ['PATH'] += ':bin'\n",
        "\n",
        "from pyomo.environ import *"
      ],
      "metadata": {
        "id": "5XPRG-r_nuXm"
      },
      "execution_count": null,
      "outputs": []
    },
    {
      "cell_type": "markdown",
      "source": [
        "# **Datos de entrada**"
      ],
      "metadata": {
        "id": "Yln70lHn3Gqb"
      }
    },
    {
      "cell_type": "code",
      "source": [
        "data1 = {\n",
        "    'c':    {'gh1': 0.8},\n",
        "    'Pmin_h': {'gh1': 0},\n",
        "    'Pmax_h': {'gh1': 450},\n",
        "    'meta'  : {'gh1': 1.5}\n",
        "}\n",
        "data2 = {\n",
        "    'ci':   {'gt1': 5},\n",
        "    'Pmin_t': {'gt1': 0},\n",
        "    'Pmax_t': {'gt1': 600}\n",
        "}\n",
        "data3 = {\n",
        "    'T1': 8, 'T2': 10, 'T3': 6,\n",
        "}\n",
        "data4 = {\n",
        "    'T1': 350, 'T2': 700, 'T3': 500\n",
        "}\n",
        "\n"
      ],
      "metadata": {
        "id": "sM1CsAJN2-qf"
      },
      "execution_count": null,
      "outputs": []
    },
    {
      "cell_type": "markdown",
      "source": [
        "# **modelo**"
      ],
      "metadata": {
        "id": "TgnR2t_g_X6E"
      }
    },
    {
      "cell_type": "code",
      "source": [
        "model = ConcreteModel()"
      ],
      "metadata": {
        "id": "TOYsdOrS6Gca"
      },
      "execution_count": null,
      "outputs": []
    },
    {
      "cell_type": "markdown",
      "source": [
        "## **conjunto**"
      ],
      "metadata": {
        "id": "VX_OeTwp_b7-"
      }
    },
    {
      "cell_type": "code",
      "source": [
        "#  Sets\n",
        "model.GH  = Set(initialize=['gh1'])\n",
        "model.GT  = Set(initialize=['gt1'])\n",
        "model.T = Set(initialize=data3.keys())"
      ],
      "metadata": {
        "id": "5-zWKxQE6Jxm"
      },
      "execution_count": null,
      "outputs": []
    },
    {
      "cell_type": "markdown",
      "source": [
        "## **parámetros**"
      ],
      "metadata": {
        "id": "o6w7VFar_fUU"
      }
    },
    {
      "cell_type": "code",
      "source": [
        "model.c           = Param(model.GH, initialize=data1['c'])\n",
        "model.Pmin_h      = Param(model.GH, initialize=data1['Pmin_h'])\n",
        "model.Pmax_h      = Param(model.GH, initialize=data1['Pmax_h'])\n",
        "model.meta        = Param(model.GH, initialize=data1['meta'])\n",
        "model.ci          = Param(model.GT, initialize=data2['ci'])\n",
        "model.Pmin_t      = Param(model.GT, initialize=data2['Pmin_t'])\n",
        "model.Pmax_t      = Param(model.GT, initialize=data2['Pmax_t'])\n",
        "model.c_rac       = Param(initialize=8000, within=NonNegativeReals)\n",
        "model.Demand      = Param(model.T, initialize=data4)\n",
        "model.period      = Param(model.T, initialize=data3)"
      ],
      "metadata": {
        "id": "iJ9-wsc17rZC"
      },
      "execution_count": null,
      "outputs": []
    },
    {
      "cell_type": "markdown",
      "source": [
        "## **variables**"
      ],
      "metadata": {
        "id": "pkpe8Se9_SU9"
      }
    },
    {
      "cell_type": "code",
      "source": [
        "model.pt          = Var(model.GT, model.T, within=NonNegativeReals)\n",
        "model.ph          = Var(model.GH, model.T, within=NonNegativeReals)\n",
        "model.racion      = Var(model.T, within=NonNegativeReals)"
      ],
      "metadata": {
        "id": "pmP_tA219-pD"
      },
      "execution_count": null,
      "outputs": []
    },
    {
      "cell_type": "markdown",
      "source": [
        "### **limites de las variables**"
      ],
      "metadata": {
        "id": "smSmeRrk_kpj"
      }
    },
    {
      "cell_type": "code",
      "source": [
        "for gh in model.GH:\n",
        "  for t in model.T:\n",
        "    model.ph[gh, t].setlb(model.Pmin_h[gh])\n",
        "    model.ph[gh, t].setub(model.Pmax_h[gh])"
      ],
      "metadata": {
        "id": "IUxG5vEb_F-8"
      },
      "execution_count": null,
      "outputs": []
    },
    {
      "cell_type": "code",
      "source": [
        "for gt in model.GT:\n",
        "  for t in model.T:\n",
        "    model.pt[gt, t].setlb(model.Pmin_t[gt])\n",
        "    model.pt[gt, t].setub(model.Pmax_t[gt])"
      ],
      "metadata": {
        "id": "cL5IRBCk-206"
      },
      "execution_count": null,
      "outputs": []
    },
    {
      "cell_type": "markdown",
      "source": [
        "## **Funcion objetivo**"
      ],
      "metadata": {
        "id": "4PeilBz4_qsD"
      }
    },
    {
      "cell_type": "code",
      "source": [
        "def funcion_objetivo(model):\n",
        "    return sum(model.ci[gt] * model.pt[gt, t] * model.period[t] for gt in model.GT for t in model.T) \\\n",
        "         + sum(model.racion[t] * model.c_rac * model.period[t] for t in model.T)\n",
        "\n",
        "model.objective = Objective(rule=funcion_objetivo, sense=minimize, doc='Define objective function')\n",
        "\n"
      ],
      "metadata": {
        "id": "-rqI0avO6Zgv"
      },
      "execution_count": null,
      "outputs": []
    },
    {
      "cell_type": "markdown",
      "source": [
        "## **restricciones**"
      ],
      "metadata": {
        "id": "na-r86FRCXRe"
      }
    },
    {
      "cell_type": "code",
      "source": [
        "def BE_rule(model, t):\n",
        "    return (sum(model.pt[gt, t] for gt in model.GT) \\\n",
        "         + sum(model.ph[gh, t] for gh in model.GH) \\\n",
        "         + model.racion[t]) * model.period[t] == model.Demand[t] * model.period[t]\n",
        "\n",
        "model.BE = Constraint(model.T, rule=BE_rule)\n"
      ],
      "metadata": {
        "id": "21qngq3SCUdS"
      },
      "execution_count": null,
      "outputs": []
    },
    {
      "cell_type": "code",
      "source": [
        "def BH_rule(model, gh):\n",
        "    return sum(model.c[gh] * model.ph[gh, t] * model.period[t] * 3600 for t in model.T) <= model.meta[gh] * 10**6\n",
        "\n",
        "model.BH = Constraint(model.GH, rule=BH_rule)"
      ],
      "metadata": {
        "id": "mv9yZ-jM9bZg"
      },
      "execution_count": null,
      "outputs": []
    },
    {
      "cell_type": "code",
      "source": [
        "model.BH.pprint()"
      ],
      "metadata": {
        "colab": {
          "base_uri": "https://localhost:8080/"
        },
        "id": "GqWic5y0-N-X",
        "outputId": "c829a11d-9f11-4de4-b838-6b4e94154b1c"
      },
      "execution_count": null,
      "outputs": [
        {
          "output_type": "stream",
          "name": "stdout",
          "text": [
            "BH : Size=1, Index=GH, Active=True\n",
            "    Key : Lower : Body                                                                    : Upper     : Active\n",
            "    gh1 :  -Inf : 23040.0*ph[gh1,T1] + 28800.0*ph[gh1,T2] + 17280.000000000004*ph[gh1,T3] : 1500000.0 :   True\n"
          ]
        }
      ]
    },
    {
      "cell_type": "code",
      "source": [
        "solver = SolverFactory(\"cbc\")\n",
        "results = solver.solve(model, tee=True).write()"
      ],
      "metadata": {
        "colab": {
          "base_uri": "https://localhost:8080/"
        },
        "id": "8KoqOs62A1j1",
        "outputId": "996ebe52-1665-48e2-84c3-2740ec18d012"
      },
      "execution_count": null,
      "outputs": [
        {
          "output_type": "stream",
          "name": "stdout",
          "text": [
            "Welcome to the CBC MILP Solver \n",
            "Version: 2.10.10 \n",
            "Build Date: Jun  7 2023 \n",
            "\n",
            "command line - /content/bin/cbc -printingOptions all -import /tmp/tmp43pi0sgk.pyomo.lp -stat=1 -solve -solu /tmp/tmp43pi0sgk.pyomo.soln (default strategy 1)\n",
            "Option for printingOptions changed from normal to all\n",
            "Presolve 2 (-2) rows, 5 (-4) columns and 6 (-6) elements\n",
            "Statistics for presolved model\n",
            "\n",
            "\n",
            "Problem has 2 rows, 5 columns (4 with objective) and 6 elements\n",
            "There are 4 singletons with objective \n",
            "Column breakdown:\n",
            "1 of type 0.0->inf, 4 of type 0.0->up, 0 of type lo->inf, \n",
            "0 of type lo->up, 0 of type free, 0 of type fixed, \n",
            "0 of type -inf->0.0, 0 of type -inf->up, 0 of type 0.0->1.0 \n",
            "Row breakdown:\n",
            "0 of type E 0.0, 0 of type E 1.0, 0 of type E -1.0, \n",
            "2 of type E other, 0 of type G 0.0, 0 of type G 1.0, \n",
            "0 of type G other, 0 of type L 0.0, 0 of type L 1.0, \n",
            "0 of type L other, 0 of type Range 0.0->1.0, 0 of type Range other, \n",
            "0 of type Free \n",
            "Presolve 2 (-2) rows, 5 (-4) columns and 6 (-6) elements\n",
            "0  Obj 3851723.9 Primal inf 652.26335 (2) Dual inf 49.999999 (1)\n",
            "2  Obj 3892333.3\n",
            "Optimal - objective value 3892333.3\n",
            "After Postsolve, objective 3892333.3, infeasibilities - dual 0 (0), primal 0 (0)\n",
            "Optimal objective 3892333.333 - 2 iterations time 0.002, Presolve 0.00\n",
            "Total time (CPU seconds):       0.00   (Wallclock seconds):       0.00\n",
            "\n",
            "# ==========================================================\n",
            "# = Solver Results                                         =\n",
            "# ==========================================================\n",
            "# ----------------------------------------------------------\n",
            "#   Problem Information\n",
            "# ----------------------------------------------------------\n",
            "Problem: \n",
            "- Name: unknown\n",
            "  Lower bound: 3892333.333\n",
            "  Upper bound: 3892333.333\n",
            "  Number of objectives: 1\n",
            "  Number of constraints: 4\n",
            "  Number of variables: 9\n",
            "  Number of nonzeros: 4\n",
            "  Sense: minimize\n",
            "# ----------------------------------------------------------\n",
            "#   Solver Information\n",
            "# ----------------------------------------------------------\n",
            "Solver: \n",
            "- Status: ok\n",
            "  User time: -1.0\n",
            "  System time: 0.0\n",
            "  Wallclock time: 0.0\n",
            "  Termination condition: optimal\n",
            "  Termination message: Model was solved to optimality (subject to tolerances), and an optimal solution is available.\n",
            "  Statistics: \n",
            "    Branch and bound: \n",
            "      Number of bounded subproblems: None\n",
            "      Number of created subproblems: None\n",
            "    Black box: \n",
            "      Number of iterations: 2\n",
            "  Error rc: 0\n",
            "  Time: 0.025501489639282227\n",
            "# ----------------------------------------------------------\n",
            "#   Solution Information\n",
            "# ----------------------------------------------------------\n",
            "Solution: \n",
            "- number of solutions: 0\n",
            "  number of solutions displayed: 0\n"
          ]
        }
      ]
    },
    {
      "cell_type": "code",
      "source": [
        "print('The Operation Cost:', \"{:.2f}\".format(value(model.objective)))"
      ],
      "metadata": {
        "colab": {
          "base_uri": "https://localhost:8080/"
        },
        "id": "gvmQy1NOA61p",
        "outputId": "be6476cc-9e30-4142-c7ba-8b749d699d5a"
      },
      "execution_count": null,
      "outputs": [
        {
          "output_type": "stream",
          "name": "stdout",
          "text": [
            "The Operation Cost: 3892333.36\n"
          ]
        }
      ]
    },
    {
      "cell_type": "code",
      "source": [
        "print(\"Constraints in the model:\")\n",
        "for constraint in model.component_objects(Constraint, active=True):\n",
        "  print(f\"Constraint: {constraint.name}\")\n",
        "  constraint.pprint()\n",
        "  print()"
      ],
      "metadata": {
        "colab": {
          "base_uri": "https://localhost:8080/"
        },
        "id": "oXRCOAnbe3co",
        "outputId": "cac2e6e2-6bbc-4c4a-9446-9f57810191a6"
      },
      "execution_count": null,
      "outputs": [
        {
          "output_type": "stream",
          "name": "stdout",
          "text": [
            "Constraints in the model:\n",
            "Constraint: BE\n",
            "BE : Size=3, Index=T, Active=True\n",
            "    Key : Lower  : Body                                      : Upper  : Active\n",
            "     T1 : 2800.0 :  (pt[gt1,T1] + ph[gh1,T1] + racion[T1])*8 : 2800.0 :   True\n",
            "     T2 : 7000.0 : (pt[gt1,T2] + ph[gh1,T2] + racion[T2])*10 : 7000.0 :   True\n",
            "     T3 : 3000.0 :  (pt[gt1,T3] + ph[gh1,T3] + racion[T3])*6 : 3000.0 :   True\n",
            "\n",
            "Constraint: BH\n",
            "BH : Size=1, Index=GH, Active=True\n",
            "    Key : Lower : Body                                                                    : Upper     : Active\n",
            "    gh1 :  -Inf : 23040.0*ph[gh1,T1] + 28800.0*ph[gh1,T2] + 17280.000000000004*ph[gh1,T3] : 1500000.0 :   True\n",
            "\n"
          ]
        }
      ]
    },
    {
      "cell_type": "markdown",
      "source": [],
      "metadata": {
        "id": "CvI_V8o29IB1"
      }
    }
  ]
}